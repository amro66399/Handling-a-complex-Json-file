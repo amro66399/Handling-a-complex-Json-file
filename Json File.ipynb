{
 "cells": [
  {
   "cell_type": "code",
   "execution_count": 1,
   "id": "b61622c3-01b4-4381-8681-7d8a4be287be",
   "metadata": {},
   "outputs": [],
   "source": [
    "import pandas as pd\n",
    "import json,os\n",
    "from tqdm import tqdm"
   ]
  },
  {
   "cell_type": "code",
   "execution_count": 2,
   "id": "2c3d66c7-3713-4a8d-a6e1-2bd201fb175d",
   "metadata": {},
   "outputs": [],
   "source": [
    "f = open(r\"C:\\Users\\amro6\\Downloads\\App 3\\Json\\train-v1.1.json\")\n",
    "data = json.load(f)"
   ]
  },
  {
   "cell_type": "code",
   "execution_count": 3,
   "id": "bf752505-e513-4c08-8014-aa9a141dfdd4",
   "metadata": {},
   "outputs": [
    {
     "data": {
      "text/plain": [
       "dict"
      ]
     },
     "execution_count": 3,
     "metadata": {},
     "output_type": "execute_result"
    }
   ],
   "source": [
    "type(data)"
   ]
  },
  {
   "cell_type": "code",
   "execution_count": 4,
   "id": "f2ae5445-3b43-4863-8692-9f841e99c0ac",
   "metadata": {},
   "outputs": [
    {
     "data": {
      "text/plain": [
       "dict_keys(['data', 'version'])"
      ]
     },
     "execution_count": 4,
     "metadata": {},
     "output_type": "execute_result"
    }
   ],
   "source": [
    "data.keys()"
   ]
  },
  {
   "cell_type": "code",
   "execution_count": 5,
   "id": "26bb4b95-7ab0-4e0d-a559-0e379116cc15",
   "metadata": {},
   "outputs": [
    {
     "data": {
      "text/plain": [
       "str"
      ]
     },
     "execution_count": 5,
     "metadata": {},
     "output_type": "execute_result"
    }
   ],
   "source": [
    "type(data['version'])"
   ]
  },
  {
   "cell_type": "code",
   "execution_count": 6,
   "id": "95c37c8e-6af4-4fc7-9fa6-b48cbca55453",
   "metadata": {},
   "outputs": [
    {
     "data": {
      "text/plain": [
       "'1.1'"
      ]
     },
     "execution_count": 6,
     "metadata": {},
     "output_type": "execute_result"
    }
   ],
   "source": [
    "data['version']"
   ]
  },
  {
   "cell_type": "code",
   "execution_count": 7,
   "id": "158c5b49-c448-4677-854e-e69b6076ef8e",
   "metadata": {},
   "outputs": [
    {
     "data": {
      "text/plain": [
       "list"
      ]
     },
     "execution_count": 7,
     "metadata": {},
     "output_type": "execute_result"
    }
   ],
   "source": [
    "type(data['data'])"
   ]
  },
  {
   "cell_type": "code",
   "execution_count": 8,
   "id": "9869fa96-5514-43ae-b1a2-2055dcaf8ebf",
   "metadata": {},
   "outputs": [
    {
     "data": {
      "text/plain": [
       "442"
      ]
     },
     "execution_count": 8,
     "metadata": {},
     "output_type": "execute_result"
    }
   ],
   "source": [
    "len(data['data'])"
   ]
  },
  {
   "cell_type": "code",
   "execution_count": 9,
   "id": "976c759a-16e5-4689-836b-00dc5af28f34",
   "metadata": {},
   "outputs": [
    {
     "data": {
      "text/plain": [
       "dict"
      ]
     },
     "execution_count": 9,
     "metadata": {},
     "output_type": "execute_result"
    }
   ],
   "source": [
    "type(data['data'][0])"
   ]
  },
  {
   "cell_type": "code",
   "execution_count": 10,
   "id": "c06c960d-3adf-4721-8dfc-11132c3d5dbd",
   "metadata": {},
   "outputs": [
    {
     "data": {
      "text/plain": [
       "dict_keys(['title', 'paragraphs'])"
      ]
     },
     "execution_count": 10,
     "metadata": {},
     "output_type": "execute_result"
    }
   ],
   "source": [
    "data['data'][0].keys()"
   ]
  },
  {
   "cell_type": "code",
   "execution_count": 11,
   "id": "0d754f10-9777-40df-beb5-582036503a28",
   "metadata": {},
   "outputs": [
    {
     "data": {
      "text/plain": [
       "'University_of_Notre_Dame'"
      ]
     },
     "execution_count": 11,
     "metadata": {},
     "output_type": "execute_result"
    }
   ],
   "source": [
    "data['data'][0]['title']"
   ]
  },
  {
   "cell_type": "code",
   "execution_count": 12,
   "id": "efa0d061-dffd-4583-bc9a-2f79c40719f0",
   "metadata": {},
   "outputs": [
    {
     "data": {
      "text/plain": [
       "list"
      ]
     },
     "execution_count": 12,
     "metadata": {},
     "output_type": "execute_result"
    }
   ],
   "source": [
    "type(data['data'][0]['paragraphs'])"
   ]
  },
  {
   "cell_type": "code",
   "execution_count": 13,
   "id": "b4901fc3-d21e-45ec-9761-96a39f9bfea6",
   "metadata": {},
   "outputs": [
    {
     "data": {
      "text/plain": [
       "55"
      ]
     },
     "execution_count": 13,
     "metadata": {},
     "output_type": "execute_result"
    }
   ],
   "source": [
    "len(data['data'][0]['paragraphs'])"
   ]
  },
  {
   "cell_type": "code",
   "execution_count": 14,
   "id": "3a600cd9-7dc9-493a-92f3-c05ef058d11a",
   "metadata": {},
   "outputs": [
    {
     "data": {
      "text/plain": [
       "dict"
      ]
     },
     "execution_count": 14,
     "metadata": {},
     "output_type": "execute_result"
    }
   ],
   "source": [
    "type(data['data'][0]['paragraphs'][0])"
   ]
  },
  {
   "cell_type": "code",
   "execution_count": 15,
   "id": "5af812e5-cd13-4b43-ad0c-4b53b0db6053",
   "metadata": {},
   "outputs": [
    {
     "data": {
      "text/plain": [
       "dict_keys(['context', 'qas'])"
      ]
     },
     "execution_count": 15,
     "metadata": {},
     "output_type": "execute_result"
    }
   ],
   "source": [
    "data['data'][0]['paragraphs'][0].keys()"
   ]
  },
  {
   "cell_type": "code",
   "execution_count": 16,
   "id": "1f2416ed-72ea-4f6b-8a2f-aa42796c6c4c",
   "metadata": {},
   "outputs": [
    {
     "data": {
      "text/plain": [
       "str"
      ]
     },
     "execution_count": 16,
     "metadata": {},
     "output_type": "execute_result"
    }
   ],
   "source": [
    "type(data['data'][0]['paragraphs'][0]['context'])"
   ]
  },
  {
   "cell_type": "code",
   "execution_count": 17,
   "id": "21fccaa1-befb-48ef-b48b-6d00e9887cd1",
   "metadata": {},
   "outputs": [
    {
     "data": {
      "text/plain": [
       "'Architecturally, the school has a Catholic character. Atop the Main Building\\'s gold dome is a golden statue of the Virgin Mary. Immediately in front of the Main Building and facing it, is a copper statue of Christ with arms upraised with the legend \"Venite Ad Me Omnes\". Next to the Main Building is the Basilica of the Sacred Heart. Immediately behind the basilica is the Grotto, a Marian place of prayer and reflection. It is a replica of the grotto at Lourdes, France where the Virgin Mary reputedly appeared to Saint Bernadette Soubirous in 1858. At the end of the main drive (and in a direct line that connects through 3 statues and the Gold Dome), is a simple, modern stone statue of Mary.'"
      ]
     },
     "execution_count": 17,
     "metadata": {},
     "output_type": "execute_result"
    }
   ],
   "source": [
    "data['data'][0]['paragraphs'][0]['context']"
   ]
  },
  {
   "cell_type": "code",
   "execution_count": 18,
   "id": "52be2fe7-15f4-47e3-8c61-a156a5532275",
   "metadata": {},
   "outputs": [
    {
     "data": {
      "text/plain": [
       "list"
      ]
     },
     "execution_count": 18,
     "metadata": {},
     "output_type": "execute_result"
    }
   ],
   "source": [
    "type(data['data'][0]['paragraphs'][0]['qas'])"
   ]
  },
  {
   "cell_type": "code",
   "execution_count": 19,
   "id": "01297165-0fbc-4a29-b7e5-28a01c323738",
   "metadata": {},
   "outputs": [
    {
     "data": {
      "text/plain": [
       "5"
      ]
     },
     "execution_count": 19,
     "metadata": {},
     "output_type": "execute_result"
    }
   ],
   "source": [
    "len(data['data'][0]['paragraphs'][0]['qas'])"
   ]
  },
  {
   "cell_type": "code",
   "execution_count": 20,
   "id": "ccb95ebd-3009-4ddb-ab6b-179d58446b6a",
   "metadata": {},
   "outputs": [
    {
     "data": {
      "text/plain": [
       "5    49\n",
       "4     6\n",
       "Name: count, dtype: int64"
      ]
     },
     "execution_count": 20,
     "metadata": {},
     "output_type": "execute_result"
    }
   ],
   "source": [
    "pd.Series([len(data['data'][0]['paragraphs'][i]['qas']) for i in range(len(data['data'][0]['paragraphs']))]).value_counts()"
   ]
  },
  {
   "cell_type": "code",
   "execution_count": 21,
   "id": "ad7759c0-d0dd-42e2-b968-f9537e5e6e91",
   "metadata": {},
   "outputs": [
    {
     "data": {
      "text/plain": [
       "'University_of_Notre_Dame'"
      ]
     },
     "execution_count": 21,
     "metadata": {},
     "output_type": "execute_result"
    }
   ],
   "source": [
    "data['data'][0]['title']"
   ]
  },
  {
   "cell_type": "code",
   "execution_count": 22,
   "id": "76438f0a-9bf8-4d59-a35a-4e7acfd6cad8",
   "metadata": {},
   "outputs": [
    {
     "data": {
      "text/html": [
       "<div>\n",
       "<style scoped>\n",
       "    .dataframe tbody tr th:only-of-type {\n",
       "        vertical-align: middle;\n",
       "    }\n",
       "\n",
       "    .dataframe tbody tr th {\n",
       "        vertical-align: top;\n",
       "    }\n",
       "\n",
       "    .dataframe thead th {\n",
       "        text-align: right;\n",
       "    }\n",
       "</style>\n",
       "<table border=\"1\" class=\"dataframe\">\n",
       "  <thead>\n",
       "    <tr style=\"text-align: right;\">\n",
       "      <th></th>\n",
       "    </tr>\n",
       "  </thead>\n",
       "  <tbody>\n",
       "  </tbody>\n",
       "</table>\n",
       "</div>"
      ],
      "text/plain": [
       "Empty DataFrame\n",
       "Columns: []\n",
       "Index: []"
      ]
     },
     "execution_count": 22,
     "metadata": {},
     "output_type": "execute_result"
    }
   ],
   "source": [
    "AllFiles = pd.DataFrame()\n",
    "AllFiles"
   ]
  },
  {
   "cell_type": "code",
   "execution_count": 23,
   "id": "d1959456-5574-4a9c-89a9-cf3baec77aec",
   "metadata": {},
   "outputs": [],
   "source": [
    "AllFiles['Title'] =[data['data'][i]['title'] for i in range(len(data['data']))]"
   ]
  },
  {
   "cell_type": "code",
   "execution_count": 24,
   "id": "37d85497-389b-4d11-b747-8628b3cff09d",
   "metadata": {},
   "outputs": [
    {
     "data": {
      "text/html": [
       "<div>\n",
       "<style scoped>\n",
       "    .dataframe tbody tr th:only-of-type {\n",
       "        vertical-align: middle;\n",
       "    }\n",
       "\n",
       "    .dataframe tbody tr th {\n",
       "        vertical-align: top;\n",
       "    }\n",
       "\n",
       "    .dataframe thead th {\n",
       "        text-align: right;\n",
       "    }\n",
       "</style>\n",
       "<table border=\"1\" class=\"dataframe\">\n",
       "  <thead>\n",
       "    <tr style=\"text-align: right;\">\n",
       "      <th></th>\n",
       "      <th>Title</th>\n",
       "    </tr>\n",
       "  </thead>\n",
       "  <tbody>\n",
       "    <tr>\n",
       "      <th>0</th>\n",
       "      <td>University_of_Notre_Dame</td>\n",
       "    </tr>\n",
       "    <tr>\n",
       "      <th>1</th>\n",
       "      <td>Beyoncé</td>\n",
       "    </tr>\n",
       "    <tr>\n",
       "      <th>2</th>\n",
       "      <td>Montana</td>\n",
       "    </tr>\n",
       "    <tr>\n",
       "      <th>3</th>\n",
       "      <td>Genocide</td>\n",
       "    </tr>\n",
       "    <tr>\n",
       "      <th>4</th>\n",
       "      <td>Antibiotics</td>\n",
       "    </tr>\n",
       "    <tr>\n",
       "      <th>...</th>\n",
       "      <td>...</td>\n",
       "    </tr>\n",
       "    <tr>\n",
       "      <th>437</th>\n",
       "      <td>Police</td>\n",
       "    </tr>\n",
       "    <tr>\n",
       "      <th>438</th>\n",
       "      <td>Punjab,_Pakistan</td>\n",
       "    </tr>\n",
       "    <tr>\n",
       "      <th>439</th>\n",
       "      <td>Infection</td>\n",
       "    </tr>\n",
       "    <tr>\n",
       "      <th>440</th>\n",
       "      <td>Hunting</td>\n",
       "    </tr>\n",
       "    <tr>\n",
       "      <th>441</th>\n",
       "      <td>Kathmandu</td>\n",
       "    </tr>\n",
       "  </tbody>\n",
       "</table>\n",
       "<p>442 rows × 1 columns</p>\n",
       "</div>"
      ],
      "text/plain": [
       "                        Title\n",
       "0    University_of_Notre_Dame\n",
       "1                     Beyoncé\n",
       "2                     Montana\n",
       "3                    Genocide\n",
       "4                 Antibiotics\n",
       "..                        ...\n",
       "437                    Police\n",
       "438          Punjab,_Pakistan\n",
       "439                 Infection\n",
       "440                   Hunting\n",
       "441                 Kathmandu\n",
       "\n",
       "[442 rows x 1 columns]"
      ]
     },
     "execution_count": 24,
     "metadata": {},
     "output_type": "execute_result"
    }
   ],
   "source": [
    "AllFiles"
   ]
  },
  {
   "cell_type": "code",
   "execution_count": 25,
   "id": "42e97b3f-a198-40a4-85ea-d1e007c2eaab",
   "metadata": {},
   "outputs": [
    {
     "data": {
      "text/plain": [
       "list"
      ]
     },
     "execution_count": 25,
     "metadata": {},
     "output_type": "execute_result"
    }
   ],
   "source": [
    "type(data['data'][0]['paragraphs'])"
   ]
  },
  {
   "cell_type": "code",
   "execution_count": 26,
   "id": "ca7245f3-c423-4430-9444-669299c018e4",
   "metadata": {},
   "outputs": [
    {
     "data": {
      "text/plain": [
       "55"
      ]
     },
     "execution_count": 26,
     "metadata": {},
     "output_type": "execute_result"
    }
   ],
   "source": [
    "len(data['data'][0]['paragraphs'])"
   ]
  },
  {
   "cell_type": "code",
   "execution_count": 27,
   "id": "94c2afcc-7160-449e-adae-9e3dcd3e2130",
   "metadata": {},
   "outputs": [
    {
     "data": {
      "text/plain": [
       "dict_keys(['context', 'qas'])"
      ]
     },
     "execution_count": 27,
     "metadata": {},
     "output_type": "execute_result"
    }
   ],
   "source": [
    "data['data'][0]['paragraphs'][0].keys()"
   ]
  },
  {
   "cell_type": "code",
   "execution_count": 28,
   "id": "2caa9cc8-d01f-4fc2-8b45-7da05a439939",
   "metadata": {},
   "outputs": [
    {
     "data": {
      "text/plain": [
       "'Architecturally, the school has a Catholic character. Atop the Main Building\\'s gold dome is a golden statue of the Virgin Mary. Immediately in front of the Main Building and facing it, is a copper statue of Christ with arms upraised with the legend \"Venite Ad Me Omnes\". Next to the Main Building is the Basilica of the Sacred Heart. Immediately behind the basilica is the Grotto, a Marian place of prayer and reflection. It is a replica of the grotto at Lourdes, France where the Virgin Mary reputedly appeared to Saint Bernadette Soubirous in 1858. At the end of the main drive (and in a direct line that connects through 3 statues and the Gold Dome), is a simple, modern stone statue of Mary.'"
      ]
     },
     "execution_count": 28,
     "metadata": {},
     "output_type": "execute_result"
    }
   ],
   "source": [
    "data['data'][0]['paragraphs'][0]['context']"
   ]
  },
  {
   "cell_type": "code",
   "execution_count": 29,
   "id": "4c6eb9c1-dccc-44ea-b0f8-1c7b6fc6523d",
   "metadata": {},
   "outputs": [
    {
     "data": {
      "text/plain": [
       "55"
      ]
     },
     "execution_count": 29,
     "metadata": {},
     "output_type": "execute_result"
    }
   ],
   "source": [
    "len(data['data'][0]['paragraphs'])"
   ]
  },
  {
   "cell_type": "code",
   "execution_count": 30,
   "id": "0bc608e1-5c6c-418b-bbdd-395048acb177",
   "metadata": {},
   "outputs": [],
   "source": [
    "df = pd.DataFrame()"
   ]
  },
  {
   "cell_type": "code",
   "execution_count": 31,
   "id": "f368f169-2641-4864-b7f7-b262b3e533b8",
   "metadata": {},
   "outputs": [],
   "source": [
    "df['Context'] = [data['data'][0]['paragraphs'][i]['context'] for i in range(len(data['data'][0]['paragraphs']))]"
   ]
  },
  {
   "cell_type": "code",
   "execution_count": 32,
   "id": "13e6ed45-058f-4866-b440-8a3842bc9626",
   "metadata": {
    "scrolled": true
   },
   "outputs": [
    {
     "data": {
      "text/html": [
       "<div>\n",
       "<style scoped>\n",
       "    .dataframe tbody tr th:only-of-type {\n",
       "        vertical-align: middle;\n",
       "    }\n",
       "\n",
       "    .dataframe tbody tr th {\n",
       "        vertical-align: top;\n",
       "    }\n",
       "\n",
       "    .dataframe thead th {\n",
       "        text-align: right;\n",
       "    }\n",
       "</style>\n",
       "<table border=\"1\" class=\"dataframe\">\n",
       "  <thead>\n",
       "    <tr style=\"text-align: right;\">\n",
       "      <th></th>\n",
       "      <th>Context</th>\n",
       "    </tr>\n",
       "  </thead>\n",
       "  <tbody>\n",
       "    <tr>\n",
       "      <th>0</th>\n",
       "      <td>Architecturally, the school has a Catholic cha...</td>\n",
       "    </tr>\n",
       "    <tr>\n",
       "      <th>1</th>\n",
       "      <td>As at most other universities, Notre Dame's st...</td>\n",
       "    </tr>\n",
       "    <tr>\n",
       "      <th>2</th>\n",
       "      <td>The university is the major seat of the Congre...</td>\n",
       "    </tr>\n",
       "    <tr>\n",
       "      <th>3</th>\n",
       "      <td>The College of Engineering was established in ...</td>\n",
       "    </tr>\n",
       "    <tr>\n",
       "      <th>4</th>\n",
       "      <td>All of Notre Dame's undergraduate students are...</td>\n",
       "    </tr>\n",
       "    <tr>\n",
       "      <th>5</th>\n",
       "      <td>The university first offered graduate degrees,...</td>\n",
       "    </tr>\n",
       "    <tr>\n",
       "      <th>6</th>\n",
       "      <td>The Joan B. Kroc Institute for International P...</td>\n",
       "    </tr>\n",
       "    <tr>\n",
       "      <th>7</th>\n",
       "      <td>The library system of the university is divide...</td>\n",
       "    </tr>\n",
       "    <tr>\n",
       "      <th>8</th>\n",
       "      <td>Notre Dame is known for its competitive admiss...</td>\n",
       "    </tr>\n",
       "    <tr>\n",
       "      <th>9</th>\n",
       "      <td>In 2015-2016, Notre Dame ranked 18th overall a...</td>\n",
       "    </tr>\n",
       "    <tr>\n",
       "      <th>10</th>\n",
       "      <td>Father Joseph Carrier, C.S.C. was Director of ...</td>\n",
       "    </tr>\n",
       "    <tr>\n",
       "      <th>11</th>\n",
       "      <td>In 1882, Albert Zahm (John Zahm's brother) bui...</td>\n",
       "    </tr>\n",
       "    <tr>\n",
       "      <th>12</th>\n",
       "      <td>The Lobund Institute grew out of pioneering re...</td>\n",
       "    </tr>\n",
       "    <tr>\n",
       "      <th>13</th>\n",
       "      <td>The Review of Politics was founded in 1939 by ...</td>\n",
       "    </tr>\n",
       "    <tr>\n",
       "      <th>14</th>\n",
       "      <td>As of 2012[update] research continued in many ...</td>\n",
       "    </tr>\n",
       "    <tr>\n",
       "      <th>15</th>\n",
       "      <td>In 2014 the Notre Dame student body consisted ...</td>\n",
       "    </tr>\n",
       "    <tr>\n",
       "      <th>16</th>\n",
       "      <td>About 80% of undergraduates and 20% of graduat...</td>\n",
       "    </tr>\n",
       "    <tr>\n",
       "      <th>17</th>\n",
       "      <td>The university is affiliated with the Congrega...</td>\n",
       "    </tr>\n",
       "    <tr>\n",
       "      <th>18</th>\n",
       "      <td>This Main Building, and the library collection...</td>\n",
       "    </tr>\n",
       "    <tr>\n",
       "      <th>19</th>\n",
       "      <td>In 1919 Father James Burns became president of...</td>\n",
       "    </tr>\n",
       "    <tr>\n",
       "      <th>20</th>\n",
       "      <td>One of the main driving forces in the growth o...</td>\n",
       "    </tr>\n",
       "    <tr>\n",
       "      <th>21</th>\n",
       "      <td>The success of its football team made Notre Da...</td>\n",
       "    </tr>\n",
       "    <tr>\n",
       "      <th>22</th>\n",
       "      <td>Holy Cross Father John Francis O'Hara was elec...</td>\n",
       "    </tr>\n",
       "    <tr>\n",
       "      <th>23</th>\n",
       "      <td>The Rev. John J. Cavanaugh, C.S.C. served as p...</td>\n",
       "    </tr>\n",
       "    <tr>\n",
       "      <th>24</th>\n",
       "      <td>The Rev. Theodore Hesburgh, C.S.C., (1917–2015...</td>\n",
       "    </tr>\n",
       "    <tr>\n",
       "      <th>25</th>\n",
       "      <td>Hesburgh is also credited with transforming th...</td>\n",
       "    </tr>\n",
       "    <tr>\n",
       "      <th>26</th>\n",
       "      <td>In the 18 years under the presidency of Edward...</td>\n",
       "    </tr>\n",
       "    <tr>\n",
       "      <th>27</th>\n",
       "      <td>Since 2005, Notre Dame has been led by John I....</td>\n",
       "    </tr>\n",
       "    <tr>\n",
       "      <th>28</th>\n",
       "      <td>Because of its Catholic identity, a number of ...</td>\n",
       "    </tr>\n",
       "    <tr>\n",
       "      <th>29</th>\n",
       "      <td>A Science Hall was built in 1883 under the dir...</td>\n",
       "    </tr>\n",
       "    <tr>\n",
       "      <th>30</th>\n",
       "      <td>Since the construction of its oldest buildings...</td>\n",
       "    </tr>\n",
       "    <tr>\n",
       "      <th>31</th>\n",
       "      <td>The University of Notre Dame has made being a ...</td>\n",
       "    </tr>\n",
       "    <tr>\n",
       "      <th>32</th>\n",
       "      <td>The university owns several centers around the...</td>\n",
       "    </tr>\n",
       "    <tr>\n",
       "      <th>33</th>\n",
       "      <td>The College of Arts and Letters was establishe...</td>\n",
       "    </tr>\n",
       "    <tr>\n",
       "      <th>34</th>\n",
       "      <td>The College of Science was established at the ...</td>\n",
       "    </tr>\n",
       "    <tr>\n",
       "      <th>35</th>\n",
       "      <td>The School of Architecture was established in ...</td>\n",
       "    </tr>\n",
       "    <tr>\n",
       "      <th>36</th>\n",
       "      <td>The library system also includes branch librar...</td>\n",
       "    </tr>\n",
       "    <tr>\n",
       "      <th>37</th>\n",
       "      <td>The rise of Hitler and other dictators in the ...</td>\n",
       "    </tr>\n",
       "    <tr>\n",
       "      <th>38</th>\n",
       "      <td>The University of Notre Dame du Lac (or simply...</td>\n",
       "    </tr>\n",
       "    <tr>\n",
       "      <th>39</th>\n",
       "      <td>Notre Dame rose to national prominence in the ...</td>\n",
       "    </tr>\n",
       "    <tr>\n",
       "      <th>40</th>\n",
       "      <td>Besides its prominence in sports, Notre Dame i...</td>\n",
       "    </tr>\n",
       "    <tr>\n",
       "      <th>41</th>\n",
       "      <td>In 1842, the Bishop of Vincennes, Célestine Gu...</td>\n",
       "    </tr>\n",
       "    <tr>\n",
       "      <th>42</th>\n",
       "      <td>The first degrees from the college were awarde...</td>\n",
       "    </tr>\n",
       "    <tr>\n",
       "      <th>43</th>\n",
       "      <td>The television station, NDtv, grew from one sh...</td>\n",
       "    </tr>\n",
       "    <tr>\n",
       "      <th>44</th>\n",
       "      <td>The first phase of Eddy Street Commons, a $215...</td>\n",
       "    </tr>\n",
       "    <tr>\n",
       "      <th>45</th>\n",
       "      <td>Notre Dame teams are known as the Fighting Iri...</td>\n",
       "    </tr>\n",
       "    <tr>\n",
       "      <th>46</th>\n",
       "      <td>Notre Dame's conference affiliations for all o...</td>\n",
       "    </tr>\n",
       "    <tr>\n",
       "      <th>47</th>\n",
       "      <td>On July 1, 2014, the University of Notre Dame ...</td>\n",
       "    </tr>\n",
       "    <tr>\n",
       "      <th>48</th>\n",
       "      <td>The Notre Dame football team has a long histor...</td>\n",
       "    </tr>\n",
       "    <tr>\n",
       "      <th>49</th>\n",
       "      <td>George Gipp was the school's legendary footbal...</td>\n",
       "    </tr>\n",
       "    <tr>\n",
       "      <th>50</th>\n",
       "      <td>Football gameday traditions During home games,...</td>\n",
       "    </tr>\n",
       "    <tr>\n",
       "      <th>51</th>\n",
       "      <td>The men's basketball team has over 1,600 wins,...</td>\n",
       "    </tr>\n",
       "    <tr>\n",
       "      <th>52</th>\n",
       "      <td>The \"Notre Dame Victory March\" is the fight so...</td>\n",
       "    </tr>\n",
       "    <tr>\n",
       "      <th>53</th>\n",
       "      <td>In the film Knute Rockne, All American, Knute ...</td>\n",
       "    </tr>\n",
       "    <tr>\n",
       "      <th>54</th>\n",
       "      <td>Notre Dame alumni work in various fields. Alum...</td>\n",
       "    </tr>\n",
       "  </tbody>\n",
       "</table>\n",
       "</div>"
      ],
      "text/plain": [
       "                                              Context\n",
       "0   Architecturally, the school has a Catholic cha...\n",
       "1   As at most other universities, Notre Dame's st...\n",
       "2   The university is the major seat of the Congre...\n",
       "3   The College of Engineering was established in ...\n",
       "4   All of Notre Dame's undergraduate students are...\n",
       "5   The university first offered graduate degrees,...\n",
       "6   The Joan B. Kroc Institute for International P...\n",
       "7   The library system of the university is divide...\n",
       "8   Notre Dame is known for its competitive admiss...\n",
       "9   In 2015-2016, Notre Dame ranked 18th overall a...\n",
       "10  Father Joseph Carrier, C.S.C. was Director of ...\n",
       "11  In 1882, Albert Zahm (John Zahm's brother) bui...\n",
       "12  The Lobund Institute grew out of pioneering re...\n",
       "13  The Review of Politics was founded in 1939 by ...\n",
       "14  As of 2012[update] research continued in many ...\n",
       "15  In 2014 the Notre Dame student body consisted ...\n",
       "16  About 80% of undergraduates and 20% of graduat...\n",
       "17  The university is affiliated with the Congrega...\n",
       "18  This Main Building, and the library collection...\n",
       "19  In 1919 Father James Burns became president of...\n",
       "20  One of the main driving forces in the growth o...\n",
       "21  The success of its football team made Notre Da...\n",
       "22  Holy Cross Father John Francis O'Hara was elec...\n",
       "23  The Rev. John J. Cavanaugh, C.S.C. served as p...\n",
       "24  The Rev. Theodore Hesburgh, C.S.C., (1917–2015...\n",
       "25  Hesburgh is also credited with transforming th...\n",
       "26  In the 18 years under the presidency of Edward...\n",
       "27  Since 2005, Notre Dame has been led by John I....\n",
       "28  Because of its Catholic identity, a number of ...\n",
       "29  A Science Hall was built in 1883 under the dir...\n",
       "30  Since the construction of its oldest buildings...\n",
       "31  The University of Notre Dame has made being a ...\n",
       "32  The university owns several centers around the...\n",
       "33  The College of Arts and Letters was establishe...\n",
       "34  The College of Science was established at the ...\n",
       "35  The School of Architecture was established in ...\n",
       "36  The library system also includes branch librar...\n",
       "37  The rise of Hitler and other dictators in the ...\n",
       "38  The University of Notre Dame du Lac (or simply...\n",
       "39  Notre Dame rose to national prominence in the ...\n",
       "40  Besides its prominence in sports, Notre Dame i...\n",
       "41  In 1842, the Bishop of Vincennes, Célestine Gu...\n",
       "42  The first degrees from the college were awarde...\n",
       "43  The television station, NDtv, grew from one sh...\n",
       "44  The first phase of Eddy Street Commons, a $215...\n",
       "45  Notre Dame teams are known as the Fighting Iri...\n",
       "46  Notre Dame's conference affiliations for all o...\n",
       "47  On July 1, 2014, the University of Notre Dame ...\n",
       "48  The Notre Dame football team has a long histor...\n",
       "49  George Gipp was the school's legendary footbal...\n",
       "50  Football gameday traditions During home games,...\n",
       "51  The men's basketball team has over 1,600 wins,...\n",
       "52  The \"Notre Dame Victory March\" is the fight so...\n",
       "53  In the film Knute Rockne, All American, Knute ...\n",
       "54  Notre Dame alumni work in various fields. Alum..."
      ]
     },
     "execution_count": 32,
     "metadata": {},
     "output_type": "execute_result"
    }
   ],
   "source": [
    "df"
   ]
  },
  {
   "cell_type": "code",
   "execution_count": 33,
   "id": "79e7bca0-c8e2-4e28-b07c-2b7498df7ee4",
   "metadata": {},
   "outputs": [
    {
     "data": {
      "text/plain": [
       "dict_keys(['answers', 'question', 'id'])"
      ]
     },
     "execution_count": 33,
     "metadata": {},
     "output_type": "execute_result"
    }
   ],
   "source": [
    "data['data'][0]['paragraphs'][0]['qas'][0].keys()"
   ]
  },
  {
   "cell_type": "code",
   "execution_count": 34,
   "id": "cb0f625f-2dd0-4f06-a384-e14e7fcf106e",
   "metadata": {},
   "outputs": [
    {
     "data": {
      "text/plain": [
       "[{'answers': [{'answer_start': 248, 'text': 'September 1876'}],\n",
       "  'question': 'When did the Scholastic Magazine of Notre dame begin publishing?',\n",
       "  'id': '5733bf84d058e614000b61be'},\n",
       " {'answers': [{'answer_start': 441, 'text': 'twice'}],\n",
       "  'question': \"How often is Notre Dame's the Juggler published?\",\n",
       "  'id': '5733bf84d058e614000b61bf'},\n",
       " {'answers': [{'answer_start': 598, 'text': 'The Observer'}],\n",
       "  'question': 'What is the daily student paper at Notre Dame called?',\n",
       "  'id': '5733bf84d058e614000b61c0'},\n",
       " {'answers': [{'answer_start': 126, 'text': 'three'}],\n",
       "  'question': 'How many student news papers are found at Notre Dame?',\n",
       "  'id': '5733bf84d058e614000b61bd'},\n",
       " {'answers': [{'answer_start': 908, 'text': '1987'}],\n",
       "  'question': 'In what year did the student paper Common Sense begin publication at Notre Dame?',\n",
       "  'id': '5733bf84d058e614000b61c1'}]"
      ]
     },
     "execution_count": 34,
     "metadata": {},
     "output_type": "execute_result"
    }
   ],
   "source": [
    "data['data'][0]['paragraphs'][1]['qas']"
   ]
  },
  {
   "cell_type": "code",
   "execution_count": 35,
   "id": "039d91cf-ed51-4482-80c1-a2b0b48cc804",
   "metadata": {},
   "outputs": [],
   "source": [
    "for n in range(4):\n",
    "    df[f'AnswerStart{n+1}'] = [data['data'][0]['paragraphs'][i]['qas'][n]['answers'][0]['answer_start'] for i in range(len(data['data'][0]['paragraphs']))]\n",
    "    df[f'AnswerText{n+1}'] = [data['data'][0]['paragraphs'][i]['qas'][n]['answers'][0]['text'] for i in range(len(data['data'][0]['paragraphs']))]\n",
    "    df[f'Question{n+1}'] = [data['data'][0]['paragraphs'][i]['qas'][n]['question'] for i in range(len(data['data'][0]['paragraphs']))]\n",
    "    df[f'ID{n+1}'] = [data['data'][0]['paragraphs'][i]['qas'][n]['id'] for i in range(len(data['data'][0]['paragraphs']))]"
   ]
  },
  {
   "cell_type": "code",
   "execution_count": 36,
   "id": "b9c1d1d8-c481-41d5-b639-a24fbab0b990",
   "metadata": {},
   "outputs": [
    {
     "data": {
      "text/html": [
       "<div>\n",
       "<style scoped>\n",
       "    .dataframe tbody tr th:only-of-type {\n",
       "        vertical-align: middle;\n",
       "    }\n",
       "\n",
       "    .dataframe tbody tr th {\n",
       "        vertical-align: top;\n",
       "    }\n",
       "\n",
       "    .dataframe thead th {\n",
       "        text-align: right;\n",
       "    }\n",
       "</style>\n",
       "<table border=\"1\" class=\"dataframe\">\n",
       "  <thead>\n",
       "    <tr style=\"text-align: right;\">\n",
       "      <th></th>\n",
       "      <th>Context</th>\n",
       "      <th>AnswerStart1</th>\n",
       "      <th>AnswerText1</th>\n",
       "      <th>Question1</th>\n",
       "      <th>ID1</th>\n",
       "      <th>AnswerStart2</th>\n",
       "      <th>AnswerText2</th>\n",
       "      <th>Question2</th>\n",
       "      <th>ID2</th>\n",
       "      <th>AnswerStart3</th>\n",
       "      <th>AnswerText3</th>\n",
       "      <th>Question3</th>\n",
       "      <th>ID3</th>\n",
       "      <th>AnswerStart4</th>\n",
       "      <th>AnswerText4</th>\n",
       "      <th>Question4</th>\n",
       "      <th>ID4</th>\n",
       "    </tr>\n",
       "  </thead>\n",
       "  <tbody>\n",
       "    <tr>\n",
       "      <th>0</th>\n",
       "      <td>Architecturally, the school has a Catholic cha...</td>\n",
       "      <td>515</td>\n",
       "      <td>Saint Bernadette Soubirous</td>\n",
       "      <td>To whom did the Virgin Mary allegedly appear i...</td>\n",
       "      <td>5733be284776f41900661182</td>\n",
       "      <td>188</td>\n",
       "      <td>a copper statue of Christ</td>\n",
       "      <td>What is in front of the Notre Dame Main Building?</td>\n",
       "      <td>5733be284776f4190066117f</td>\n",
       "      <td>279</td>\n",
       "      <td>the Main Building</td>\n",
       "      <td>The Basilica of the Sacred heart at Notre Dame...</td>\n",
       "      <td>5733be284776f41900661180</td>\n",
       "      <td>381</td>\n",
       "      <td>a Marian place of prayer and reflection</td>\n",
       "      <td>What is the Grotto at Notre Dame?</td>\n",
       "      <td>5733be284776f41900661181</td>\n",
       "    </tr>\n",
       "    <tr>\n",
       "      <th>1</th>\n",
       "      <td>As at most other universities, Notre Dame's st...</td>\n",
       "      <td>248</td>\n",
       "      <td>September 1876</td>\n",
       "      <td>When did the Scholastic Magazine of Notre dame...</td>\n",
       "      <td>5733bf84d058e614000b61be</td>\n",
       "      <td>441</td>\n",
       "      <td>twice</td>\n",
       "      <td>How often is Notre Dame's the Juggler published?</td>\n",
       "      <td>5733bf84d058e614000b61bf</td>\n",
       "      <td>598</td>\n",
       "      <td>The Observer</td>\n",
       "      <td>What is the daily student paper at Notre Dame ...</td>\n",
       "      <td>5733bf84d058e614000b61c0</td>\n",
       "      <td>126</td>\n",
       "      <td>three</td>\n",
       "      <td>How many student news papers are found at Notr...</td>\n",
       "      <td>5733bf84d058e614000b61bd</td>\n",
       "    </tr>\n",
       "    <tr>\n",
       "      <th>2</th>\n",
       "      <td>The university is the major seat of the Congre...</td>\n",
       "      <td>119</td>\n",
       "      <td>Rome</td>\n",
       "      <td>Where is the headquarters of the Congregation ...</td>\n",
       "      <td>5733bed24776f41900661188</td>\n",
       "      <td>145</td>\n",
       "      <td>Moreau Seminary</td>\n",
       "      <td>What is the primary seminary of the Congregati...</td>\n",
       "      <td>5733bed24776f41900661189</td>\n",
       "      <td>234</td>\n",
       "      <td>Old College</td>\n",
       "      <td>What is the oldest structure at Notre Dame?</td>\n",
       "      <td>5733bed24776f4190066118a</td>\n",
       "      <td>356</td>\n",
       "      <td>Retired priests and brothers</td>\n",
       "      <td>What individuals live at Fatima House at Notre...</td>\n",
       "      <td>5733bed24776f4190066118b</td>\n",
       "    </tr>\n",
       "  </tbody>\n",
       "</table>\n",
       "</div>"
      ],
      "text/plain": [
       "                                             Context  AnswerStart1  \\\n",
       "0  Architecturally, the school has a Catholic cha...           515   \n",
       "1  As at most other universities, Notre Dame's st...           248   \n",
       "2  The university is the major seat of the Congre...           119   \n",
       "\n",
       "                  AnswerText1  \\\n",
       "0  Saint Bernadette Soubirous   \n",
       "1              September 1876   \n",
       "2                        Rome   \n",
       "\n",
       "                                           Question1  \\\n",
       "0  To whom did the Virgin Mary allegedly appear i...   \n",
       "1  When did the Scholastic Magazine of Notre dame...   \n",
       "2  Where is the headquarters of the Congregation ...   \n",
       "\n",
       "                        ID1  AnswerStart2                AnswerText2  \\\n",
       "0  5733be284776f41900661182           188  a copper statue of Christ   \n",
       "1  5733bf84d058e614000b61be           441                      twice   \n",
       "2  5733bed24776f41900661188           145            Moreau Seminary   \n",
       "\n",
       "                                           Question2  \\\n",
       "0  What is in front of the Notre Dame Main Building?   \n",
       "1   How often is Notre Dame's the Juggler published?   \n",
       "2  What is the primary seminary of the Congregati...   \n",
       "\n",
       "                        ID2  AnswerStart3        AnswerText3  \\\n",
       "0  5733be284776f4190066117f           279  the Main Building   \n",
       "1  5733bf84d058e614000b61bf           598       The Observer   \n",
       "2  5733bed24776f41900661189           234        Old College   \n",
       "\n",
       "                                           Question3  \\\n",
       "0  The Basilica of the Sacred heart at Notre Dame...   \n",
       "1  What is the daily student paper at Notre Dame ...   \n",
       "2        What is the oldest structure at Notre Dame?   \n",
       "\n",
       "                        ID3  AnswerStart4  \\\n",
       "0  5733be284776f41900661180           381   \n",
       "1  5733bf84d058e614000b61c0           126   \n",
       "2  5733bed24776f4190066118a           356   \n",
       "\n",
       "                               AnswerText4  \\\n",
       "0  a Marian place of prayer and reflection   \n",
       "1                                    three   \n",
       "2             Retired priests and brothers   \n",
       "\n",
       "                                           Question4                       ID4  \n",
       "0                  What is the Grotto at Notre Dame?  5733be284776f41900661181  \n",
       "1  How many student news papers are found at Notr...  5733bf84d058e614000b61bd  \n",
       "2  What individuals live at Fatima House at Notre...  5733bed24776f4190066118b  "
      ]
     },
     "execution_count": 36,
     "metadata": {},
     "output_type": "execute_result"
    }
   ],
   "source": [
    "df.head(3)"
   ]
  },
  {
   "cell_type": "code",
   "execution_count": 38,
   "id": "5c66a414-c049-4024-9a8d-5333e1cae579",
   "metadata": {},
   "outputs": [
    {
     "name": "stderr",
     "output_type": "stream",
     "text": [
      "100%|██████████| 442/442 [00:05<00:00, 74.17it/s] \n"
     ]
    }
   ],
   "source": [
    "for ID in tqdm(range(len(data['data']))):\n",
    "    FileTitle = data['data'][ID]['title']\n",
    "    df = pd.DataFrame()\n",
    "    df['Context'] = [data['data'][ID]['paragraphs'][i]['context'] for i in range(len(data['data'][ID]['paragraphs']))]\n",
    "    for n in range(4):\n",
    "        try:\n",
    "            df[f'AnswerStart{n+1}'] = [data['data'][ID]['paragraphs'][i]['qas'][n]['answers'][0]['answer_start'] for i in range(len(data['data'][ID]['paragraphs']))]\n",
    "        except:\n",
    "            pass\n",
    "        try: \n",
    "            df[f'AnswerText{n+1}'] = [data['data'][ID]['paragraphs'][i]['qas'][n]['answers'][0]['text'] for i in range(len(data['data'][ID]['paragraphs']))]\n",
    "        except:\n",
    "            pass\n",
    "        try:\n",
    "            df[f'Question{n+1}'] = [data['data'][ID]['paragraphs'][i]['qas'][n]['question'] for i in range(len(data['data'][ID]['paragraphs']))]\n",
    "        except:\n",
    "            pass\n",
    "        try:\n",
    "            df[f'ID{n+1}'] = [data['data'][ID]['paragraphs'][i]['qas'][n]['id'] for i in range(len(data['data'][ID]['paragraphs']))]\n",
    "        except:\n",
    "            pass\n",
    "\n",
    "    df.to_csv(os.path.join(r'C:\\Users\\amro6\\Desktop\\CSV Files',f'{FileTitle}.csv'))   \n",
    "    #df\n",
    "\n"
   ]
  },
  {
   "cell_type": "code",
   "execution_count": null,
   "id": "df0900af-af3f-400c-87fc-c8058dcb644d",
   "metadata": {},
   "outputs": [],
   "source": []
  },
  {
   "cell_type": "code",
   "execution_count": null,
   "id": "2b546efd-f7c0-405f-b698-af63fe643793",
   "metadata": {},
   "outputs": [],
   "source": []
  }
 ],
 "metadata": {
  "kernelspec": {
   "display_name": "Python 3 (ipykernel)",
   "language": "python",
   "name": "python3"
  },
  "language_info": {
   "codemirror_mode": {
    "name": "ipython",
    "version": 3
   },
   "file_extension": ".py",
   "mimetype": "text/x-python",
   "name": "python",
   "nbconvert_exporter": "python",
   "pygments_lexer": "ipython3",
   "version": "3.12.4"
  }
 },
 "nbformat": 4,
 "nbformat_minor": 5
}
